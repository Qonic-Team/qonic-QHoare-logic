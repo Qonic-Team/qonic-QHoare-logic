{
 "cells": [
  {
   "cell_type": "code",
   "execution_count": 1,
   "id": "legitimate-dream",
   "metadata": {},
   "outputs": [],
   "source": [
    "# the tequila library will be used to construct quantum circuits\n",
    "import tequila as tq\n",
    "from tequila.wavefunction.qubit_wavefunction import QubitWaveFunction\n",
    "\n",
    "import numpy as np\n",
    "from numpy import pi, e\n",
    "\n",
    "from qiskit import QuantumCircuit, transpile\n",
    "from qiskit.quantum_info import Operator\n",
    "from qiskit.circuit.exceptions import CircuitError\n",
    "import qiskit\n",
    "\n",
    "from math import sqrt, log2\n",
    "from multipledispatch import dispatch\n",
    "import jdc\n",
    "import copy"
   ]
  },
  {
   "cell_type": "markdown",
   "id": "maritime-action",
   "metadata": {},
   "source": [
    "To impliment quantum hoare logic, we utilize the grammar of quantum programs as defined in [2].  That is, \n",
    "```\n",
    "S ::= skip | q := 0 | q̅ := U q̅ | S 1 ; S 2 | measure M [q̅] : S̅ | while M [q̅] = 1 do S\n",
    "```\n",
    "For more details about the specifics of this syntax, see [1]."
   ]
  },
  {
   "cell_type": "code",
   "execution_count": 2,
   "id": "requested-brother",
   "metadata": {},
   "outputs": [],
   "source": [
    "# define a class structure for quantum programs using the syntax of quantum hoare logic\n",
    "class QProgram:\n",
    "    def skip(): # skip operation does nothing\n",
    "        pass\n",
    "    \n",
    "    def __init__(self, q̅=[[1, 0]], backend=None):\n",
    "        if hasattr(np.shape(q̅), '__len__') and len(np.shape(q̅)) > 1:\n",
    "            self.q̅ = np.array(1) # register statevector\n",
    "            for qubit in q̅:\n",
    "                self.q̅ = np.kron(self.q̅, qubit)\n",
    "        else:\n",
    "            self.q̅ = q̅ # quantum register\n",
    "            \n",
    "        self.instructions = [] # list of instructions (operations) carried out by the program\n",
    "            \n",
    "        self.num_qubits = int(log2(len(self.q̅)))\n",
    "        \n",
    "        \n",
    "        self.M_k = [] # list of terminating operations of the program as Kraus operators M_k\n",
    "        \n",
    "        self.backend = backend\n",
    "        \n",
    "    def assign(self, U, variables): # function corresponding to q:=Uq or q̅:=Uq̅\n",
    "        self.instructions.append((U, variables))"
   ]
  },
  {
   "cell_type": "markdown",
   "id": "separate-deposit",
   "metadata": {},
   "source": [
    "The methods of the `QProgram` class defined so far encode the first three components of a quantum program:\n",
    "```\n",
    "skip | q := 0 | q̅ := U q̅\n",
    "```\n",
    "The `skip` method does nothing, the constructor corresponds to setting the initial states of individual qubits, ie. `q := 0`, and the `assign` method corresponds to applying a unitary operator to a set of qubits, ie. `q̅ := U q̅`."
   ]
  },
  {
   "cell_type": "code",
   "execution_count": 3,
   "id": "buried-onion",
   "metadata": {},
   "outputs": [],
   "source": [
    "    %%add_to QProgram\n",
    "    def to_circuit(self, framework='tequila'): # method to return a quantum circuit defined in tequila or qiskit from the current QProgram object\n",
    "        if framework == 'tequila':\n",
    "            qc = tq.QCircuit()\n",
    "            \n",
    "            qc_initializer = tq.QCircuit()\n",
    "            initializer = QuantumCircuit(self.num_qubits) # create an initializer circuit in qiskit before converting it to tequila\n",
    "            for i in range(self.num_qubits):\n",
    "                # make sure qubit is initialized on tequila circuit if it remains in state [1, 0]\n",
    "                qc_initializer += tq.gates.u3(0, 0, 0, i)\n",
    "            initializer.initialize(self.q̅, range(self.num_qubits))\n",
    "\n",
    "            transpiled = transpile(initializer, basis_gates=['cx', 'u3']) # convert to qiskit through open qasm\n",
    "            qasm = transpiled.qasm()\n",
    "            for instruction in qasm.split('\\n'):\n",
    "                if instruction[:2] == 'u3':\n",
    "                    ϴ, φ, λ = map(eval, instruction.replace('u3', '').replace('pi', str(pi)).split(' ')[0].replace('(', '').replace(')', '').split(','))\n",
    "                    q = list(map(int, instruction.replace(';', '').replace('q', '').replace('[', '').replace(']', '').split(' ')[1].split(',')))\n",
    "                    qc_initializer += tq.gates.u3(theta=ϴ, phi=φ, lambd=λ, target=q)\n",
    "                elif instruction[:2] == 'cx':\n",
    "                    q = list(map(int, instruction.replace(';', '').replace('q', '').replace('[', '').replace(']', '').split(' ')[1].split(',')))\n",
    "                    qc_initializer += tq.gates.CX(control=q[0], target=q[1])\n",
    "            qc += qc_initializer\n",
    "            \n",
    "        elif framework == 'qiskit':\n",
    "            qc = QuantumCircuit(self.num_qubits)\n",
    "            \n",
    "            qc_initializer = QuantumCircuit(self.num_qubits)\n",
    "            qc_initializer.initialize(self.q̅, range(self.num_qubits))\n",
    "            qc += qc_initializer\n",
    "            \n",
    "        for instruction in self.instructions:\n",
    "            variables = instruction[1]\n",
    "            U = instruction[0]\n",
    "            \n",
    "            gate_circuit = QuantumCircuit(self.num_qubits)\n",
    "            gate_circuit.unitary(U, variables)\n",
    "            transpiled = transpile(gate_circuit, basis_gates=['cx', 'u3']) # for each assignment instruction, reduce the corresponding unitary operation to cx and u3 gates\n",
    "            \n",
    "            if framework == 'tequila':\n",
    "                # get the qiskit gate in open qasm\n",
    "                qasm = transpiled.qasm()\n",
    "                for instruction in qasm.split('\\n'):\n",
    "                    if instruction[:2] == 'u3':\n",
    "                        ϴ, φ, λ = map(eval, instruction.replace('u3', '').replace('pi', str(pi)).split(' ')[0].replace('(', '').replace(')', '').split(','))\n",
    "                        q = list(map(int, instruction.replace(';', '').replace('q', '').replace('[', '').replace(']', '').split(' ')[1].split(',')))\n",
    "                        qc += tq.gates.u3(theta=ϴ, phi=φ, lambd=λ, target=q)\n",
    "                    elif instruction[:2] == 'cx':\n",
    "                        q = list(map(int, instruction.replace(';', '').replace('q', '').replace('[', '').replace(']', '').split(' ')[1].split(',')))\n",
    "                        qc += tq.gates.CX(control=q[0], target=q[1])\n",
    "            elif framework == 'qiskit':\n",
    "                qc += transpiled\n",
    "                \n",
    "        return qc\n",
    "    \n",
    "    def to_unitary(self): # method to return the instructions as a single unitary matrix\n",
    "        qc = QuantumCircuit(len(self.q̅))\n",
    "        for instruction in self.instructions:\n",
    "            variables = instruction[1]\n",
    "            u = instruction[0]\n",
    "            qc.unitary(u, variables) # map the program to a quantum circuit\n",
    "        U = Operator(qc).data # get the corresponding unitary matrix\n",
    "        return U"
   ]
  },
  {
   "cell_type": "markdown",
   "id": "after-steering",
   "metadata": {},
   "source": [
    "The `to_circuit` method can be used to generate a quantum circuit from the current `QProgram` object, in the form of either a qiskit `QuantumCircuit` or a tequila `QCircuit`.  The `to_unitary` method can be used to generate a unitary operator corresponding to the current `QProgram` object.  This allows us to test our progress so far:"
   ]
  },
  {
   "cell_type": "code",
   "execution_count": 4,
   "id": "filled-blair",
   "metadata": {},
   "outputs": [],
   "source": [
    "# testing QProgram class using to_circuit\n",
    "S = QProgram(q̅=[[1,0],[0,1],[0,1],[1,0]]) # initial register state 0, 1, 1, 0"
   ]
  },
  {
   "cell_type": "code",
   "execution_count": 5,
   "id": "subject-development",
   "metadata": {},
   "outputs": [],
   "source": [
    "# define some quantum gates as unitary operators\n",
    "CNOT = np.array([[1,0,0,0],[0,0,0,1],[0,0,1,0],[0,1,0,0]]) # controlled not gate\n",
    "H = np.array([[1/sqrt(2), 1/sqrt(2)],[1/sqrt(2), -1/sqrt(2)]]) # hadamard gate\n",
    "T = np.array([[1, 0], [0, e**(1j*pi/4)]]) # T gate"
   ]
  },
  {
   "cell_type": "code",
   "execution_count": 6,
   "id": "french-commissioner",
   "metadata": {},
   "outputs": [],
   "source": [
    "# assign the operations to the register\n",
    "\n",
    "S.assign(H, [0])\n",
    "S.assign(T, [0])\n",
    "S.assign(H, [0])\n",
    "\n",
    "S.assign(H, [2])\n",
    "\n",
    "S.assign(CNOT, [1,3])\n",
    "S.assign(CNOT, [0,2])"
   ]
  },
  {
   "cell_type": "code",
   "execution_count": 7,
   "id": "broken-hardwood",
   "metadata": {},
   "outputs": [],
   "source": [
    "# generate qiskit circuit using the tequila framework to return a tequila.QCircuit object\n",
    "qc = S.to_circuit(framework='tequila')"
   ]
  },
  {
   "cell_type": "code",
   "execution_count": 8,
   "id": "surrounded-pontiac",
   "metadata": {},
   "outputs": [
    {
     "data": {
      "image/png": "[encoded data removed]",
      "text/plain": [
       "<Figure size 700x500 with 1 Axes>"
      ]
     },
     "execution_count": 8,
     "metadata": {},
     "output_type": "execute_result"
    }
   ],
   "source": [
    "# simulate the circuit\n",
    "wfn = tq.simulate(qc)\n",
    "\n",
    "# get the output probabilities from the probability amplitudes\n",
    "counts = dict()\n",
    "for key, value in wfn.state.items():\n",
    "    counts[key.binary[::-1]] = value * np.conj(value)\n",
    "    \n",
    "# plot the output\n",
    "from qiskit.tools.visualization import plot_histogram\n",
    "plot_histogram(counts)"
   ]
  },
  {
   "cell_type": "code",
   "execution_count": 9,
   "id": "fleet-illustration",
   "metadata": {},
   "outputs": [],
   "source": [
    "# generate qiskit circuit using the qiskit framework to return a qiskit.QuantumCircuit object\n",
    "qc = S.to_circuit(framework='qiskit')"
   ]
  },
  {
   "cell_type": "code",
   "execution_count": 10,
   "id": "higher-developer",
   "metadata": {},
   "outputs": [
    {
     "data": {
      "image/png": "[encoded data removed]",
      "text/plain": [
       "<Figure size 700x500 with 1 Axes>"
      ]
     },
     "execution_count": 10,
     "metadata": {},
     "output_type": "execute_result"
    }
   ],
   "source": [
    "# simulate the circuit\n",
    "from qiskit import Aer, execute\n",
    "from qiskit.compiler import assemble\n",
    "\n",
    "# run the quantum circuit on a statevector simulator backend\n",
    "qobj = assemble(qc)\n",
    "backend = Aer.get_backend('statevector_simulator')\n",
    "\n",
    "# create a Quantum Program for execution\n",
    "result = backend.run(qobj).result()\n",
    "\n",
    "# plot the output\n",
    "plot_histogram(result.get_counts(qc))"
   ]
  },
  {
   "cell_type": "markdown",
   "id": "painted-surprise",
   "metadata": {},
   "source": [
    "Below is an example of how to impliment the `measure M [q̅] : S̅` and  `while M [q̅] = 1 do S` components of a quantum program.\n",
    "\n",
    "### `QProgram.measurement` \n",
    "This method takes arguments for the qubits to be measured, and returns the result of the measurement.  In addition to this, the function modifies the state of the register to be the state after wavefunction collapse, and clears the previous instructions (reflecting that measurements are non unitary).\n",
    "\n",
    "### `QProgram.while_loop_body`\n",
    "This method corresponds to applying a sub algorithm to the quantum register while a specified qubit is measured to be equal to a specified classical bit.  This is done using the principle or deferred measurements.  In other words, the sub algorithm is treated as a controlled gate added to the instructions with the control qubit being the passed loop conditional qubit.  The gate is applied repeatedly until the probability of the loop conditional being true is less than an arbitrary threshold (or until some maximum number of iterations is reached). "
   ]
  },
  {
   "cell_type": "code",
   "execution_count": 17,
   "id": "color-bankruptcy",
   "metadata": {},
   "outputs": [],
   "source": [
    "    %%add_to QProgram\n",
    "    def measure(self, q_m): # function corresponding to measuring a set of qubits\n",
    "        # returns the result of the measurement and modifies the instructions so that they map the initial state to the state after the measurement\n",
    "        \n",
    "        # run the program and get the output as a statevector\n",
    "        qc = self.to_circuit(framework='tequila')\n",
    "        if self.backend != None:\n",
    "            state = tq.simulate(qc, backend=backend)\n",
    "            measurement = tq.simulate(qc, samples=1, read_out_qubits=q_m, backend=backend).state\n",
    "        else:\n",
    "            state = tq.simulate(qc)\n",
    "            measurement = tq.simulate(qc, samples=1, read_out_qubits=q_m).state\n",
    "            \n",
    "        res = list(measurement.keys())[0] # get the collapsed state of the qubit\n",
    "        \n",
    "        valid_basis = dict() # dictionary of valid basis states given the measured value of q_m\n",
    "        norm_sum = 0 # stores the sum of each valid probability amplitude times its conjugate so the calculated state can be normalized\n",
    "        for key in state.state.keys():\n",
    "            # check if the bits in the binary form of this basis corresponding to the qubits being measured are equal to the measured states\n",
    "            if all([('{:0'+str(self.num_qubits)+'d}').format(int(format(int(key), 'b')))[q_m[i]] == str(res[i]) for i in range(len(q_m))]):\n",
    "                valid_basis[key] = state.state[key]\n",
    "                norm_sum += (state.state[key]*np.conj(state.state[key]))\n",
    "                \n",
    "        # normalize the new vector\n",
    "        for key in valid_basis.keys():\n",
    "            valid_basis[key] *= sqrt(1/norm_sum)\n",
    "            \n",
    "        # convert the valid_basis dict into a statevector array\n",
    "        final_state = QubitWaveFunction(valid_basis, self.num_qubits).to_array()\n",
    "        \n",
    "        # replace the quantum register with the final state and clear the instructions (reflecting that measurements are non unitary)\n",
    "        self.q̅ = final_state\n",
    "        self.instructions = []\n",
    "        \n",
    "        return ('{:0'+str(len(q_m))+'d}').format(int(format(int(res), 'b'))) # return the measured state\n",
    "        \n",
    "    def while_loop_body(self, q_m, expected_measurement : str, sub_algorithm, prob_threshold=0.01, iter_cutoff=10):\n",
    "        n = 1 # keeps track of prob of each loop iteration\n",
    "        iters = 0\n",
    "        program = self # run the initial program before entering the loop body\n",
    "        \n",
    "        # make sure sub_algorithm has the same number of variables as the current program\n",
    "        if self.num_qubits != program.num_qubits:\n",
    "            raise ValueError('the passed sub_algorithm has a quantum register with a different length of the current program')\n",
    "        \n",
    "        # create a unitary from the sub_algorithm by having each instruction controlled by the qubits in q_m\n",
    "        circuit_instructions = sub_algorithm.to_circuit(framework='qiskit').data\n",
    "        sub_algorithm_circuit = QuantumCircuit(self.num_qubits)\n",
    "        for instruction in circuit_instructions:\n",
    "            if instruction.operation.name == 'initialize':\n",
    "                continue # skip over initialization instruction\n",
    "            try:\n",
    "                gate = instruction.operation.definition.control(len(q_m)) # controlled instruction\n",
    "                    \n",
    "                for qubit in range(len(q_m)):\n",
    "                    if expected_measurement[qubit] == '0': # flip qubits that are expected to be 0\n",
    "                        sub_algorithm_circuit.x(q_m[qubit])\n",
    "                            \n",
    "                sub_algorithm_circuit.append(gate, q_m + [q for q in list(instruction.qubits)])\n",
    "                    \n",
    "                for qubit in range(len(q_m)):\n",
    "                    if expected_measurement[qubit] == '0':\n",
    "                        sub_algorithm_circuit.x(q_m[qubit])\n",
    "                    \n",
    "            except (CircuitError, ValueError):\n",
    "                raise ValueError('an instruction was applied to one of the control qubits in the sub algorithm')\n",
    "        # calculate the unitary of the sub algorithm\n",
    "        U = Operator(sub_algorithm_circuit).data\n",
    "        \n",
    "        # final state that is returned after the loop is carried out\n",
    "        final_state = self.q̅\n",
    "        \n",
    "        while(n > prob_threshold and iters < iter_cutoff):\n",
    "            # get the probability of the qubits in q_m being equal to the expected_measurement\n",
    "            qc = program.to_circuit(framework='tequila')\n",
    "            \n",
    "            if self.backend != None:\n",
    "                state = tq.simulate(qc, backend=backend)\n",
    "            else:\n",
    "                state = tq.simulate(qc)\n",
    "                \n",
    "            # get the prob from the prob amplitudes of basis components satisfying the conditional\n",
    "            prob = 0\n",
    "            for key in state.state.keys():\n",
    "                # check if the bits in the binary form of this basis corresponding to the qubits being measured are equal to the measured states\n",
    "                if all([('{:0'+str(self.num_qubits)+'d}').format(int(format(int(key), 'b')))[q_m[i]] == str(expected_measurement[i]) for i in range(len(q_m))]):\n",
    "                    prob += abs(state.state[key]*np.conj(state.state[key]))\n",
    "            n *= prob # update the conditional prob\n",
    "             \n",
    "            program = copy.deepcopy(sub_algorithm) # update the sub algorithm\n",
    "            program.q̅ = state.to_array() # update the sub algorithm's register to the state after this many interations\n",
    "            \n",
    "            # modify all operations applied within the sub algorithm (ie. 'program') to be controlled according to the loop conditional\n",
    "            program.instructions = []\n",
    "            self.assign(U, range(self.num_qubits)) # add the unitary for this step to the list of instructions     \n",
    "            iters += 1\n",
    "            \n",
    "            # update final_state\n",
    "            final_state = state.to_array()\n",
    "        \n",
    "        return final_state"
   ]
  },
  {
   "cell_type": "code",
   "execution_count": 12,
   "id": "jewish-truck",
   "metadata": {},
   "outputs": [
    {
     "data": {
      "text/plain": [
       "'01'"
      ]
     },
     "execution_count": 12,
     "metadata": {},
     "output_type": "execute_result"
    }
   ],
   "source": [
    "# testing the measure operation\n",
    "S.measure([0, 1])"
   ]
  },
  {
   "cell_type": "code",
   "execution_count": 13,
   "id": "de3a6ae3",
   "metadata": {},
   "outputs": [
    {
     "data": {
      "image/png": "[encoded data removed]",
      "text/plain": [
       "<Figure size 700x500 with 1 Axes>"
      ]
     },
     "execution_count": 13,
     "metadata": {},
     "output_type": "execute_result"
    }
   ],
   "source": [
    "final_state = S.q̅ # get the state of the register after the measurement was performed\n",
    "\n",
    "# get the output probabilities from the final state to verify that it works as expected\n",
    "counts = dict()\n",
    "for i in range(len(final_state)):\n",
    "    value = final_state[i]\n",
    "    key = ('{:04d}').format(int(format(int(i), 'b')))\n",
    "    counts[key[::-1]] = value * np.conj(value)\n",
    "                               \n",
    "plot_histogram(counts)"
   ]
  },
  {
   "cell_type": "code",
   "execution_count": 18,
   "id": "b5b827c0",
   "metadata": {},
   "outputs": [
    {
     "data": {
      "text/plain": [
       "array([ 1.38777878e-16+0.5j,  0.00000000e+00-0.5j, -5.55111512e-17-0.5j,\n",
       "        0.00000000e+00+0.5j])"
      ]
     },
     "execution_count": 18,
     "metadata": {},
     "output_type": "execute_result"
    }
   ],
   "source": [
    "# testing the while_loop_body operation\n",
    "S = QProgram(q̅=[[0,1],[0,1]])\n",
    "S.assign(H, [0])\n",
    "S.assign(H, [1]) # put the two qubits in a superposition\n",
    "\n",
    "sub_algorithm = QProgram(q̅=[[0,1],[0,1]]) # define a sub algorithm that applies an X gate while qubit 0 is measured to be 1\n",
    "X = np.array([[0, 1], [1, 0]])\n",
    "sub_algorithm.assign(X, [1])\n",
    "\n",
    "S.while_loop_body([0], '1', sub_algorithm)"
   ]
  },
  {
   "cell_type": "markdown",
   "id": "0cc13cb3",
   "metadata": {},
   "source": [
    "Quantum Hoare triples can be expressed as $\\{Q\\}S\\{P\\}$, where the precondition $P$ and postcondition $Q$ are quantum predicates represented by physical observables (ie. Hermitian matricies).  The partial correctness of a quantum program with respect to these predicates is defined as\n",
    "$$\n",
    "\\models_{par} \\{Q\\}S\\{P\\} ↔ (∀ \\text{ quantum states } ρ), \\text{ } tr(Pρ) ≤ tr(Q⟦S⟧(ρ)) + tr(ρ) − tr(⟦S⟧(ρ)) \n",
    "$$\n",
    "and the total correctness is defined as\n",
    "$$\n",
    "\\models_{tot} \\{Q\\}S\\{P\\} ↔ (∀ \\text{ quantum states } ρ), \\text{ } tr(Pρ) ≤ tr(Q⟦S⟧(ρ))\n",
    "$$\n",
    "where $⟦S⟧$ is the super-operator form of quantum program $S$ [1].  \n",
    "\n",
    "In effect, these definitions state that a quantum program ($S$) is correct if and only if it causes the expectation value of all possible states ($ρ$) with respect to a postcondition observable ($Q$) to be greater than or equal to the expectation value of the original state with respect to a precondition observable ($P$).\n",
    "\n",
    "In order to prove the correctness of a quantum program, we are interested in being able to find the *weakest liberal precondition* (wlp) of a quantum program $S$ with respect to a given quantum predicate $P$, denoted by $wlp.S.P$ [1].  This is the weakest quantum predicate $Q$ satisfying $\\models_{par} \\{Q\\}S\\{P\\}$.  A proof of correctness involves starting from the postcondition $Q$, and solving for $wlp.S.Q$, called $P'$.  It then suffices to show that $P⊑P'$ (where $⊑$ deno"
   ]
  },
  {
   "cell_type": "markdown",
   "id": "complex-selling",
   "metadata": {},
   "source": [
    "### Sources\n",
    "1. Liu, T., Li, Y., Wang, S., Ying, M., & Zhan, N. (2016). A Theorem Prover for Quantum Hoare Logic and Its Applications. doi:10.48550/ARXIV.1601.03835\n",
    "2. Ying, M. (2012). Floyd--Hoare Logic for Quantum Programs. ACM Trans. Program. Lang. Syst., 33(6). doi:10.1145/2049706.2049708\n",
    "3. D'Hondt, E., & Panangaden, P. (2006). Quantum weakest preconditions. Mathematical Structures in Computer Science, 16, 429 - 451. \n",
    "4. N Ielsen, I. L. & Chuang, M. A. 2000. Quantum Computation and Quantum Information. Cambridge University Press, Cambridge, UK.\n",
    "5. S Elinger , P. 2004. Towards a quantum programming language. Math. Structures Comput. Sci."
   ]
  }
 ],
 "metadata": {
  "kernelspec": {
   "display_name": "quantum",
   "language": "python",
   "name": "quantum"
  },
  "language_info": {
   "codemirror_mode": {
    "name": "ipython",
    "version": 3
   },
   "file_extension": ".py",
   "mimetype": "text/x-python",
   "name": "python",
   "nbconvert_exporter": "python",
   "pygments_lexer": "ipython3",
   "version": "3.10.4"
  }
 },
 "nbformat": 4,
 "nbformat_minor": 5
}
